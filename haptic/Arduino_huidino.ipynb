{
 "cells": [
  {
   "cell_type": "code",
   "execution_count": null,
   "metadata": {},
   "outputs": [],
   "source": [
    "import serial\n",
    "''''\n",
    "Note that you will need to connect to the same device that you connect to from within the Arduino \n",
    "development environment. I created a symlink between the longer-winded device name \n",
    "and  /dev/tty.usbserial  to cut down on keystrokes.\n",
    "''''\n",
    "ser = serial.Serial('/dev/tty.usbserial', 9600)\n"
   ]
  },
  {
   "cell_type": "code",
   "execution_count": 111,
   "metadata": {},
   "outputs": [
    {
     "name": "stdout",
     "output_type": "stream",
     "text": [
      "Connecting to arduino on /dev/cu.usbmodem14101... done.\n",
      "1\n"
     ]
    }
   ],
   "source": [
    "# ------------------------------------------------------------------------------\n",
    "# Python program using the library to interface with the arduino sketch above.\n",
    "# ------------------------------------------------------------------------------\n",
    "\n",
    "import PyCmdMessenger\n",
    "\n",
    "# Initialize an ArduinoBoard instance.  This is where you specify baud rate and\n",
    "# serial timeout.  If you are using a non ATmega328 board, you might also need\n",
    "# to set the data sizes (bytes for integers, longs, floats, and doubles).  \n",
    "arduino = PyCmdMessenger.ArduinoBoard(\"/dev/cu.usbmodem14101\",baud_rate=9600)\n",
    "\n",
    "# List of commands and their associated argument formats. These must be in the\n",
    "# same order as in the sketch.\n",
    "commands = [[\"who_are_you\",\"\"],\n",
    "            [\"my_name_is\",\"\"],\n",
    "            [\"sum_two_ints\",\"\"],\n",
    "            [\"sum_is\",\"\"],\n",
    "            [\"error\",\"\"]]\n",
    "\n",
    "def comanda(number):\n",
    "    # Initialize the messenger\n",
    "    c = PyCmdMessenger.CmdMessenger(arduino,commands)\n",
    "    if number == 1:\n",
    "        c.send(\"who_are_you\")\n",
    "        print('1')\n",
    "    if number == 2:\n",
    "        c.send(\"my_name_is\")\n",
    "        print('2')\n",
    "    if number == 3:\n",
    "        c.send(\"sum_two_ints\")\n",
    "        print('3')\n",
    "    if number == 4:\n",
    "        c.send(\"sum_is\")\n",
    "        print('4')\n",
    "    if number == 5:\n",
    "        c.send(\"error\")\n",
    "        print('5')\n",
    "        \n",
    "number = 1\n",
    "\n",
    "\n",
    "comanda(number)\n",
    "\n",
    "# Initialize the messenger\n",
    "#c = PyCmdMessenger.CmdMessenger(arduino,commands)\n",
    "\n",
    "# Send\n",
    "# c.send(\"who_are_you\")\n",
    "# # Receive. Should give [\"my_name_is\",[\"Bob\"],TIME_RECIEVED]\n",
    "# msg = c.receive()\n",
    "# print(msg)\n",
    "\n",
    "# # Send with multiple parameters\n",
    "# c.send(\"sum_two_ints\",4,1)\n",
    "# msg = c.receive()\n",
    "\n",
    "# should give [\"sum_is\",[5],TIME_RECEIVED]\n",
    "# print(msg)"
   ]
  },
  {
   "cell_type": "code",
   "execution_count": null,
   "metadata": {},
   "outputs": [],
   "source": []
  },
  {
   "cell_type": "code",
   "execution_count": null,
   "metadata": {},
   "outputs": [],
   "source": []
  },
  {
   "cell_type": "code",
   "execution_count": null,
   "metadata": {},
   "outputs": [],
   "source": []
  },
  {
   "cell_type": "code",
   "execution_count": null,
   "metadata": {},
   "outputs": [],
   "source": []
  }
 ],
 "metadata": {
  "kernelspec": {
   "display_name": "Python 3",
   "language": "python",
   "name": "python3"
  },
  "language_info": {
   "codemirror_mode": {
    "name": "ipython",
    "version": 3
   },
   "file_extension": ".py",
   "mimetype": "text/x-python",
   "name": "python",
   "nbconvert_exporter": "python",
   "pygments_lexer": "ipython3",
   "version": "3.7.1"
  }
 },
 "nbformat": 4,
 "nbformat_minor": 2
}
